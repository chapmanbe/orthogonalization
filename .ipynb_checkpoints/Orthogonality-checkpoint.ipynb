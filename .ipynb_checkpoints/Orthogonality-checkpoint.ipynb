{
 "cells": [
  {
   "cell_type": "code",
   "execution_count": 1,
   "metadata": {
    "collapsed": true
   },
   "outputs": [],
   "source": [
    "%matplotlib inline"
   ]
  },
  {
   "cell_type": "markdown",
   "metadata": {},
   "source": [
    "# Basis Vectors and Orthogonality\n",
    "\n",
    "If the idea of a basis is one of the foundations of linear algebra, then the specialization to an orthogonal basis is not far behind. We need a basis to convert geometric constructions into algebraic calculations, and we need an orthogonal basis to make those calculations simple. There is even a further specialization, which makes the basis just about optimal: The vectors should have length one. That can be achieved, but to do it we have to know\n",
    "\n",
    "1. the length of a vector\n",
    "2. the test for perpendicular vectors\n",
    "3. how to create perpendicular vectors from linearly independent vectors.\n",
    "\n",
    "Gilbert Strang Linear Algebra\n",
    "\n",
    "We have previously addressed two of three features\n",
    "\n",
    "The length of a vector is the norm.\n",
    "The test for perpendicularity is done with the inner product.\n",
    "\n",
    "## Example of basis vectors\n",
    "\n",
    "The idea of basis vectors for a vector space is the following: Can linear combinations of a set of vectors be used to reach every point in the vector space?\n",
    "\n",
    "To explore this, we will consider the two-dimension ($\\Re^2$) space of the x-y plane. A pair of basis vectors for this space is \n",
    "\n",
    "\\begin{eqnarray}\n",
    "e_1 = \\begin{bmatrix}\n",
    "\\begin{array}{r{\\quad}1}\n",
    "1 \\\\ 0\n",
    "\\end{array}\n",
    "\\end{bmatrix}, e_2 = \\begin{bmatrix}\n",
    "\\begin{array}{r{\\quad}1}\n",
    "0 \\\\ 1\n",
    "\\end{array}\n",
    "\\end{bmatrix}\n",
    "\\end{eqnarray}\n",
    "\n",
    "These vectors are drawn below. These vectors happen to be **unit vectors** (norm/length of 1) and orthogonal ($\\mathbf{e_2}^T \\mathbf{e_1}=0$)."
   ]
  },
  {
   "cell_type": "code",
   "execution_count": 2,
   "metadata": {
    "collapsed": true
   },
   "outputs": [],
   "source": [
    "import matplotlib.pyplot as plt\n",
    "import numpy as np"
   ]
  },
  {
   "cell_type": "code",
   "execution_count": 4,
   "metadata": {
    "collapsed": true
   },
   "outputs": [],
   "source": [
    "from myla.utils import *"
   ]
  },
  {
   "cell_type": "code",
   "execution_count": 5,
   "metadata": {},
   "outputs": [
    {
     "data": {
      "image/png": "[encoded data removed]",
      "text/plain": [
       "<Figure size 432x288 with 1 Axes>"
      ]
     },
     "metadata": {},
     "output_type": "display_data"
    }
   ],
   "source": [
    "draw_vectors((1,0, \"red\"),(0,1, \"green\"))"
   ]
  },
  {
   "cell_type": "markdown",
   "metadata": {},
   "source": [
    "You can get to anywhere in the plane by some combination of $\\mathbf{e_1}$ and $\\mathbf{e_2}$, something we probably explored in elementary school. \n",
    "\n",
    "For example, I an get to the point $(15,-3)$ with \n",
    "\n",
    "\\begin{equation}\n",
    "15\\times \\mathbf{e_1} + -3 \\times \\mathbf{e_2}\n",
    "\\end{equation}\n",
    "\n",
    "Our basis functions do not need to be unit vectors. For example, we could have the following basis vectors:\n",
    "\n",
    "\\begin{eqnarray}\n",
    "e_3 = \\begin{bmatrix}\n",
    "\\begin{array}{r{\\quad}1}\n",
    "7 \\\\ 0\n",
    "\\end{array}\n",
    "\\end{bmatrix}, e_4 = \\begin{bmatrix}\n",
    "\\begin{array}{r{\\quad}1}\n",
    "0 \\\\ -2\n",
    "\\end{array}\n",
    "\\end{bmatrix}\n",
    "\\end{eqnarray}"
   ]
  },
  {
   "cell_type": "code",
   "execution_count": 6,
   "metadata": {},
   "outputs": [
    {
     "data": {
      "image/png": "[encoded data removed]",
      "text/plain": [
       "<Figure size 432x288 with 1 Axes>"
      ]
     },
     "metadata": {},
     "output_type": "display_data"
    }
   ],
   "source": [
    "draw_vectors((7,0, \"red\"),(0,-2, \"green\"))"
   ]
  },
  {
   "cell_type": "markdown",
   "metadata": {},
   "source": [
    "Our arithmetic might get a little more complex, but we can still use $\\mathbf{e_3}$ and $\\mathbf{e_4}$ to get anywhere in the plane. For example to get to get our point $(15,-3)$ we would do the following\n",
    "\n",
    "\\begin{equation}\n",
    "\\frac{15}{7}\\times \\mathbf{e_1} + \\frac{3}{2} \\times \\mathbf{e_2}\n",
    "\\end{equation}"
   ]
  },
  {
   "cell_type": "code",
   "execution_count": 7,
   "metadata": {
    "collapsed": true
   },
   "outputs": [],
   "source": [
    "e_3 = np.matrix([[7],[0]])\n",
    "e_4 = np.matrix([[0],[-2]])"
   ]
  },
  {
   "cell_type": "code",
   "execution_count": 8,
   "metadata": {},
   "outputs": [
    {
     "data": {
      "text/plain": [
       "True"
      ]
     },
     "execution_count": 8,
     "metadata": {},
     "output_type": "execute_result"
    }
   ],
   "source": [
    "isinstance([1,3],(np.ndarray, list, tuple))"
   ]
  },
  {
   "cell_type": "code",
   "execution_count": 9,
   "metadata": {},
   "outputs": [
    {
     "data": {
      "image/png": "[encoded data removed]",
      "text/plain": [
       "<Figure size 432x288 with 1 Axes>"
      ]
     },
     "metadata": {},
     "output_type": "display_data"
    }
   ],
   "source": [
    "\n",
    "draw_vectors((e_3, \"red\"),\n",
    "             (e_4, \"red\"), \n",
    "             ((15/7)*e_3,(0,1,0,0.5)), \n",
    "             ((3/2)*e_4, (0,1,0,0.5)),\n",
    "             ((15/7)*e_3 + (3/2)*e_4,\"blue\"))"
   ]
  },
  {
   "cell_type": "code",
   "execution_count": 10,
   "metadata": {
    "collapsed": true
   },
   "outputs": [],
   "source": [
    "v3 = np.array([1.0,0.2])\n",
    "v3 = v3/la.norm(v3)\n",
    "v3\n",
    "def unit_vectors(*v):\n",
    "    vs = [np.array(vv)/la.norm(vv) for vv in v]\n",
    "    return vs"
   ]
  },
  {
   "cell_type": "code",
   "execution_count": 11,
   "metadata": {},
   "outputs": [
    {
     "data": {
      "image/png": "[encoded data removed]",
      "text/plain": [
       "<Figure size 432x288 with 1 Axes>"
      ]
     },
     "metadata": {},
     "output_type": "display_data"
    }
   ],
   "source": [
    "draw_vectors((1,0, \"red\"),(0,1, \"red\"))"
   ]
  },
  {
   "cell_type": "code",
   "execution_count": 12,
   "metadata": {},
   "outputs": [
    {
     "data": {
      "text/plain": [
       "(('red', array([1., 0.])), ('green', array([0.98095245, 0.19424801])), 1)"
      ]
     },
     "execution_count": 12,
     "metadata": {},
     "output_type": "execute_result"
    }
   ],
   "source": [
    "(*(zip([\"red\",\"green\"],unit_vectors((1.01,0.0),(1.01,0.2)))),1)"
   ]
  },
  {
   "cell_type": "code",
   "execution_count": 13,
   "metadata": {},
   "outputs": [
    {
     "data": {
      "image/png": "[encoded data removed]",
      "text/plain": [
       "<Figure size 432x288 with 1 Axes>"
      ]
     },
     "metadata": {},
     "output_type": "display_data"
    }
   ],
   "source": [
    "draw_vectors(*(zip(unit_vectors((5,0.0),(5.0,0.2)),(\"red\",\"green\"))))"
   ]
  },
  {
   "cell_type": "markdown",
   "metadata": {},
   "source": [
    "### Write\n",
    "\n",
    "1. Specifications (Docstring?) for each function (step?)\n",
    "1. Write a test for each specified function\n",
    "1. Write a function that satisfies the test"
   ]
  },
  {
   "cell_type": "code",
   "execution_count": 53,
   "metadata": {
    "collapsed": true
   },
   "outputs": [],
   "source": []
  },
  {
   "cell_type": "markdown",
   "metadata": {},
   "source": [
    "## QR Factorization\n",
    "\n",
    "What is the relationship between $A$ and $Q$? In other words, what matrix $R$ do we need such that \n",
    "\\begin{equation}\n",
    "A = QR?\n",
    "\\end{equation}\n",
    "\n",
    "\n",
    "Any vector can be expressed as a weighted sum of basis vectors:\n",
    "\n",
    "\\begin{equation}\n",
    "\\mathbf{b} = x_1\\mathbf{q_1}+x_2\\mathbf{q_2}+\\cdots+x_n\\mathbf{q_n}\n",
    "\\end{equation}\n",
    "\n",
    "How do we compute $x_i$?\n",
    "If the basis functions are orthonormal (as we've created in $Q$) and we multiply both sides by $\\mathbf{q_i}^T$ we get\n",
    "\n",
    "\n",
    "\\begin{equation}\n",
    "\\mathbf{q_i}^T\\mathbf{b} = \\mathbf{q_i}^Tx_1\\mathbf{q_1}+\\mathbf{q_i}^Tx_2\\mathbf{q_2}+\\cdots+\\mathbf{q_i}^Tx_n\\mathbf{q_n}\n",
    "\\end{equation}\n",
    "\n",
    "\n",
    "But since $Q$ is orthonormal \n",
    "\n",
    "\\begin{equation}\n",
    "  \\mathbf{q_i}^T\\mathbf{q_j} =\n",
    "  \\begin{cases}\n",
    "    1 & \\text{if $i = j$} \\\\\n",
    "    0 & \\text{otherwise}\n",
    "  \\end{cases}\n",
    "\\end{equation}\n",
    "\n",
    "\\begin{equation}\n",
    "\\mathbf{q_i}^T\\mathbf{b} = x_i\n",
    "\\end{equation}\n",
    "\n",
    "So any vector $\\mathbf{b}$ can be expressed as\n",
    "\n",
    "\\begin{equation}\n",
    "\\mathbf{b} = (\\mathbf{q_1}^T\\mathbf{b})\\mathbf{q_1}+(\\mathbf{q_2}^T\\mathbf{b})\\mathbf{q_2}+\\cdots+(\\mathbf{q_n}^T\\mathbf{b})\\mathbf{q_n}\n",
    "\\end{equation}\n",
    "\n",
    "Based on this we can reconstruct the columns of $A$ from $Q$ by\n",
    "\n",
    "\\begin{equation}\n",
    "\\mathbf{a_i} = \\sum_{j=1}^{j < i}\\mathbf{q_j}^T\\mathbf{a_i}\n",
    "\\end{equation}\n",
    "\n",
    "What does this look like in matrix form? It is multiplication of $Q$ by an upper right triangular matrix $R$\n",
    "\n",
    "\\begin{equation}\n",
    "A=QR = \\begin{bmatrix}\n",
    "\\begin{array}{cccc{\\qquad}1}\n",
    "\\mathbf{q_1} & \\mathbf{q_2} & \\cdots & \\mathbf{q_n}\n",
    "\\end{array}\n",
    "\\end{bmatrix}\n",
    "\\begin{bmatrix}\n",
    "\\begin{array}{cccc{\\qquad}1}\n",
    "\\mathbf{q_1}^T\\mathbf{a_1} & \\mathbf{q_1}^T\\mathbf{a_2} & \\cdots & \\mathbf{q_1}^T\\mathbf{a_n}\\\\\n",
    "0 & \\mathbf{q_2}^T\\mathbf{a_2} & \\cdots & \\mathbf{q_2}^T\\mathbf{a_n}\\\\\n",
    "\\vdots& \\vdots & \\vdots & \\vdots \\\\\n",
    "0 & 0 & 0 & \\mathbf{q_n}^T\\mathbf{a_n}\n",
    "\\end{array}\n",
    "\\end{bmatrix}\n",
    "\\end{equation}"
   ]
  },
  {
   "cell_type": "markdown",
   "metadata": {},
   "source": []
  },
  {
   "cell_type": "code",
   "execution_count": null,
   "metadata": {
    "collapsed": true
   },
   "outputs": [],
   "source": []
  }
 ],
 "metadata": {
  "kernelspec": {
   "display_name": "Python 3",
   "language": "python",
   "name": "python3"
  },
  "language_info": {
   "codemirror_mode": {
    "name": "ipython",
    "version": 3
   },
   "file_extension": ".py",
   "mimetype": "text/x-python",
   "name": "python",
   "nbconvert_exporter": "python",
   "pygments_lexer": "ipython3",
   "version": "3.6.3"
  }
 },
 "nbformat": 4,
 "nbformat_minor": 2
}
